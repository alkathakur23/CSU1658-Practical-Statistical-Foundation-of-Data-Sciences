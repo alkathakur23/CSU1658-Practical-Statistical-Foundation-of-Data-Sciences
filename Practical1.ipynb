{
 "cells": [
  {
   "cell_type": "code",
   "execution_count": 2,
   "id": "a3f2d9a2-47b8-4ad3-a56a-fe8b3fe73346",
   "metadata": {},
   "outputs": [
    {
     "name": "stdout",
     "output_type": "stream",
     "text": [
      "Synthetic Dataset:\n",
      "   Age   Income\n",
      "0   58  67191.0\n",
      "1   48  64131.0\n",
      "2   34      NaN\n",
      "3   27  61090.0\n",
      "4   40  21685.0\n",
      "5   58  20769.0\n",
      "6   38  79735.0\n",
      "7   42      NaN\n",
      "8   30  22433.0\n",
      "9   30  25311.0\n"
     ]
    }
   ],
   "source": [
    "\n",
    "import numpy as np\n",
    "import pandas as pd\n",
    "\n",
    "\n",
    "np.random.seed(42)\n",
    "\n",
    "\n",
    "ages = np.random.randint(20, 60, n)\n",
    "incomes = np.random.randint(20000, 80000, n).astype(float)\n",
    "\n",
    "\n",
    "incomes[[2, 7]] = np.nan\n",
    "\n",
    "data = pd.DataFrame({\n",
    "    \"Age\": ages,\n",
    "    \"Income\": incomes\n",
    "})\n",
    "\n",
    "print(\"Synthetic Dataset:\")\n",
    "print(data)\n",
    "\n",
    "\n"
   ]
  },
  {
   "cell_type": "code",
   "execution_count": 4,
   "id": "6cc17773-5a95-4858-934e-d36cedbdab28",
   "metadata": {},
   "outputs": [
    {
     "name": "stdout",
     "output_type": "stream",
     "text": [
      "\n",
      "Problem 1 Results:\n",
      "Mean Income = 45293.12\n",
      "Median Income = 43200.50\n",
      "Age-Weighted Mean Income = 46076.13\n",
      "\n",
      "Explanation: Weighted mean is preferable when some data points carry more importance than others (e.g., age, credit hours, population weights).\n"
     ]
    }
   ],
   "source": [
    "# Problem 1: Mean, Median, and Age-Weighted Mean of Income\n",
    "\n",
    "\n",
    "# (a) Mean\n",
    "mean_income = data[\"Income\"].mean()\n",
    "\n",
    "# (b) Median\n",
    "median_income = data[\"Income\"].median()\n",
    "\n",
    "# (c) Age-weighted mean (ignore NaNs)\n",
    "valid_data = data.dropna()\n",
    "weighted_mean_income = np.average(valid_data[\"Income\"], weights=valid_data[\"Age\"])\n",
    "\n",
    "print(\"\\nProblem 1 Results:\")\n",
    "print(f\"Mean Income = {mean_income:.2f}\")\n",
    "print(f\"Median Income = {median_income:.2f}\")\n",
    "print(f\"Age-Weighted Mean Income = {weighted_mean_income:.2f}\")\n",
    "\n",
    "print(\"\\nExplanation: Weighted mean is preferable when some data points \"\n",
    "      \"carry more importance than others (e.g., age, credit hours, population weights).\")\n",
    "\n"
   ]
  },
  {
   "cell_type": "code",
   "execution_count": 5,
   "id": "e6d8c1fd-f111-4ed3-80c7-82332fb4b5c3",
   "metadata": {},
   "outputs": [
    {
     "name": "stdout",
     "output_type": "stream",
     "text": [
      "\n",
      "Problem 2 Results:\n",
      "   Age   Income  Income_z\n",
      "0   58  67191.0  0.878346\n",
      "1   48  64131.0  0.755607\n",
      "2   34      NaN       NaN\n",
      "3   27  61090.0  0.633629\n",
      "4   40  21685.0 -0.946946\n",
      "5   58  20769.0 -0.983688\n",
      "6   38  79735.0  1.381499\n",
      "7   42      NaN       NaN\n",
      "8   30  22433.0 -0.916943\n",
      "9   30  25311.0 -0.801504\n",
      "Number of Outliers = 0\n"
     ]
    }
   ],
   "source": [
    "#Problem 2: Standardize Income (Z-score) and Outlier Detection\n",
    "\n",
    "from scipy.stats import zscore\n",
    "\n",
    "# Compute z-scores (ignoring NaNs safely)\n",
    "data[\"Income_z\"] = (data[\"Income\"] - data[\"Income\"].mean(skipna=True)) / data[\"Income\"].std(skipna=True)\n",
    "\n",
    "# Identify outliers using |z| > 3\n",
    "outliers = data[\"Income_z\"].abs() > 3\n",
    "num_outliers = outliers.sum()\n",
    "\n",
    "print(\"\\nProblem 2 Results:\")\n",
    "print(data[[\"Age\", \"Income\", \"Income_z\"]])\n",
    "print(f\"Number of Outliers = {num_outliers}\")"
   ]
  },
  {
   "cell_type": "code",
   "execution_count": 6,
   "id": "3f60b807-9d84-48de-9d81-4faad60220ae",
   "metadata": {},
   "outputs": [
    {
     "name": "stdout",
     "output_type": "stream",
     "text": [
      "\n",
      "Problem 3 Results:\n",
      "  Age_bin  count_obs  mean_income  median_income\n",
      "0   18-25          0          NaN            NaN\n",
      "1   25-35          3      36278.0        25311.0\n",
      "2   35-45          2      50710.0        50710.0\n",
      "3   45-60          3      50697.0        64131.0\n"
     ]
    },
    {
     "name": "stderr",
     "output_type": "stream",
     "text": [
      "C:\\Users\\thaku\\AppData\\Local\\Temp\\ipykernel_10424\\3440795376.py:10: FutureWarning: The default of observed=False is deprecated and will be changed to True in a future version of pandas. Pass observed=False to retain current behavior or observed=True to adopt the future default and silence this warning.\n",
      "  bin_stats = data.groupby(\"Age_bin\").agg(\n"
     ]
    }
   ],
   "source": [
    "# Problem 3: Age Binning and Statistics\n",
    "\n",
    "\n",
    "bins = [18, 25, 35, 45, 60]\n",
    "labels = [\"18-25\", \"25-35\", \"35-45\", \"45-60\"]\n",
    "\n",
    "data[\"Age_bin\"] = pd.cut(data[\"Age\"], bins=bins, labels=labels, right=False)\n",
    "\n",
    "# Compute required stats\n",
    "bin_stats = data.groupby(\"Age_bin\").agg(\n",
    "    count_obs=(\"Income\", \"count\"),\n",
    "    mean_income=(\"Income\", \"mean\"),\n",
    "    median_income=(\"Income\", \"median\")\n",
    ").reset_index()\n",
    "\n",
    "print(\"\\nProblem 3 Results:\")\n",
    "print(bin_stats.sort_values(\"Age_bin\"))"
   ]
  },
  {
   "cell_type": "code",
   "execution_count": 7,
   "id": "e186740d-853f-4082-af8b-0adaf5ca194e",
   "metadata": {},
   "outputs": [
    {
     "name": "stdout",
     "output_type": "stream",
     "text": [
      "\n",
      "Problem 4 Results:\n",
      "Original Array:\n",
      " [[1 2 3]\n",
      " [4 5 6]]\n",
      "Shape: (2, 3)\n",
      "Size: 6\n",
      "Transpose:\n",
      " [[1 4]\n",
      " [2 5]\n",
      " [3 6]]\n",
      "Flatten: [1 2 3 4 5 6]\n"
     ]
    }
   ],
   "source": [
    " #Problem 4: Array Operations\n",
    "\n",
    "\n",
    "arr = np.array([[1, 2, 3], [4, 5, 6]])   # 2D Array\n",
    "\n",
    "print(\"\\nProblem 4 Results:\")\n",
    "\n",
    "# Shape, Size, Transpose, Flatten\n",
    "print(\"Original Array:\\n\", arr)\n",
    "print(\"Shape:\", arr.shape)\n",
    "print(\"Size:\", arr.size)\n",
    "print(\"Transpose:\\n\", arr.T)\n",
    "print(\"Flatten:\", arr.flatten())\n",
    "\n"
   ]
  },
  {
   "cell_type": "code",
   "execution_count": 8,
   "id": "f28b0e96-aa7b-4e7c-8252-5045c150d08f",
   "metadata": {},
   "outputs": [
    {
     "name": "stdout",
     "output_type": "stream",
     "text": [
      "Negative indexing arr[-1][-1] = 6\n",
      "Error in slicing: index 3 is out of bounds for axis 1 with size 3\n"
     ]
    }
   ],
   "source": [
    "# Negative indexing\n",
    "print(\"Negative indexing arr[-1][-1] =\", arr[-1][-1])\n",
    "try:\n",
    "    print(arr[:, 3])  # This will raise an IndexError\n",
    "except Exception as e:\n",
    "    print(\"Error in slicing:\", e)\n",
    "\n",
    "\n"
   ]
  },
  {
   "cell_type": "code",
   "execution_count": 9,
   "id": "52d256f2-220d-4b03-baea-7c16994bfb07",
   "metadata": {},
   "outputs": [
    {
     "name": "stdout",
     "output_type": "stream",
     "text": [
      "Broadcasting (arr + 10):\n",
      " [[11 12 13]\n",
      " [14 15 16]]\n"
     ]
    }
   ],
   "source": [
    "# Arithmetic operations – Broadcasting\n",
    "print(\"Broadcasting (arr + 10):\\n\", arr + 10)\n",
    "\n",
    "\n"
   ]
  },
  {
   "cell_type": "code",
   "execution_count": 10,
   "id": "9c36540b-41fc-46e9-8da2-eb15f3e1e709",
   "metadata": {},
   "outputs": [
    {
     "name": "stdout",
     "output_type": "stream",
     "text": [
      "Dot Product (arr @ arr.T):\n",
      " [[14 32]\n",
      " [32 77]]\n"
     ]
    }
   ],
   "source": [
    "# Dot product\n",
    "print(\"Dot Product (arr @ arr.T):\\n\", arr @ arr.T)\n",
    "\n"
   ]
  },
  {
   "cell_type": "code",
   "execution_count": 11,
   "id": "ad919ad3-cfa2-40ad-9765-840f6103c988",
   "metadata": {},
   "outputs": [
    {
     "name": "stdout",
     "output_type": "stream",
     "text": [
      "Square Matrix:\n",
      " [[2 1]\n",
      " [7 4]]\n",
      "Determinant: 0.9999999999999996\n",
      "Inverse:\n",
      " [[ 4. -1.]\n",
      " [-7.  2.]]\n"
     ]
    }
   ],
   "source": [
    "# Linear Algebra (square matrix)\n",
    "sq_arr = np.array([[2, 1], [7, 4]])\n",
    "det = np.linalg.det(sq_arr)\n",
    "inv = np.linalg.inv(sq_arr)\n",
    "\n",
    "print(\"Square Matrix:\\n\", sq_arr)\n",
    "print(\"Determinant:\", det)\n",
    "print(\"Inverse:\\n\", inv)"
   ]
  },
  {
   "cell_type": "code",
   "execution_count": null,
   "id": "38fa35b7-8223-4604-b98a-ea62f3aca8c7",
   "metadata": {},
   "outputs": [],
   "source": []
  }
 ],
 "metadata": {
  "kernelspec": {
   "display_name": "Python 3 (ipykernel)",
   "language": "python",
   "name": "python3"
  },
  "language_info": {
   "codemirror_mode": {
    "name": "ipython",
    "version": 3
   },
   "file_extension": ".py",
   "mimetype": "text/x-python",
   "name": "python",
   "nbconvert_exporter": "python",
   "pygments_lexer": "ipython3",
   "version": "3.13.5"
  }
 },
 "nbformat": 4,
 "nbformat_minor": 5
}
