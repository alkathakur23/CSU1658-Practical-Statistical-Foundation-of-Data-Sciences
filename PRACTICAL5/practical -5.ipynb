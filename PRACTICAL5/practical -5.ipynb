{
 "cells": [
  {
   "cell_type": "code",
   "execution_count": null,
   "id": "343cbbad-d7b6-466a-a3a9-c3503f6a8b3e",
   "metadata": {},
   "outputs": [],
   "source": [
    "##Practical -5"
   ]
  },
  {
   "cell_type": "code",
   "execution_count": 3,
   "id": "b6a5a0f8-1d05-45a0-9268-3531232efcd8",
   "metadata": {},
   "outputs": [
    {
     "data": {
      "text/html": [
       "<div>\n",
       "<style scoped>\n",
       "    .dataframe tbody tr th:only-of-type {\n",
       "        vertical-align: middle;\n",
       "    }\n",
       "\n",
       "    .dataframe tbody tr th {\n",
       "        vertical-align: top;\n",
       "    }\n",
       "\n",
       "    .dataframe thead th {\n",
       "        text-align: right;\n",
       "    }\n",
       "</style>\n",
       "<table border=\"1\" class=\"dataframe\">\n",
       "  <thead>\n",
       "    <tr style=\"text-align: right;\">\n",
       "      <th></th>\n",
       "      <th>teacher</th>\n",
       "      <th>evaluation</th>\n",
       "    </tr>\n",
       "  </thead>\n",
       "  <tbody>\n",
       "    <tr>\n",
       "      <th>0</th>\n",
       "      <td>Teacher1</td>\n",
       "      <td>4.7</td>\n",
       "    </tr>\n",
       "    <tr>\n",
       "      <th>1</th>\n",
       "      <td>Teacher2</td>\n",
       "      <td>3.8</td>\n",
       "    </tr>\n",
       "    <tr>\n",
       "      <th>2</th>\n",
       "      <td>Teacher3</td>\n",
       "      <td>4.2</td>\n",
       "    </tr>\n",
       "    <tr>\n",
       "      <th>3</th>\n",
       "      <td>Teacher4</td>\n",
       "      <td>4.9</td>\n",
       "    </tr>\n",
       "    <tr>\n",
       "      <th>4</th>\n",
       "      <td>Teacher5</td>\n",
       "      <td>3.5</td>\n",
       "    </tr>\n",
       "    <tr>\n",
       "      <th>5</th>\n",
       "      <td>Teacher6</td>\n",
       "      <td>4.1</td>\n",
       "    </tr>\n",
       "    <tr>\n",
       "      <th>6</th>\n",
       "      <td>Teacher7</td>\n",
       "      <td>4.6</td>\n",
       "    </tr>\n",
       "    <tr>\n",
       "      <th>7</th>\n",
       "      <td>Teacher8</td>\n",
       "      <td>3.9</td>\n",
       "    </tr>\n",
       "    <tr>\n",
       "      <th>8</th>\n",
       "      <td>Teacher9</td>\n",
       "      <td>4.3</td>\n",
       "    </tr>\n",
       "    <tr>\n",
       "      <th>9</th>\n",
       "      <td>Teacher10</td>\n",
       "      <td>4.0</td>\n",
       "    </tr>\n",
       "    <tr>\n",
       "      <th>10</th>\n",
       "      <td>Teacher11</td>\n",
       "      <td>4.8</td>\n",
       "    </tr>\n",
       "    <tr>\n",
       "      <th>11</th>\n",
       "      <td>Teacher12</td>\n",
       "      <td>3.7</td>\n",
       "    </tr>\n",
       "    <tr>\n",
       "      <th>12</th>\n",
       "      <td>Teacher13</td>\n",
       "      <td>4.5</td>\n",
       "    </tr>\n",
       "    <tr>\n",
       "      <th>13</th>\n",
       "      <td>Teacher14</td>\n",
       "      <td>4.0</td>\n",
       "    </tr>\n",
       "    <tr>\n",
       "      <th>14</th>\n",
       "      <td>Teacher15</td>\n",
       "      <td>3.6</td>\n",
       "    </tr>\n",
       "    <tr>\n",
       "      <th>15</th>\n",
       "      <td>Teacher16</td>\n",
       "      <td>4.4</td>\n",
       "    </tr>\n",
       "    <tr>\n",
       "      <th>16</th>\n",
       "      <td>Teacher17</td>\n",
       "      <td>4.2</td>\n",
       "    </tr>\n",
       "    <tr>\n",
       "      <th>17</th>\n",
       "      <td>Teacher18</td>\n",
       "      <td>3.8</td>\n",
       "    </tr>\n",
       "    <tr>\n",
       "      <th>18</th>\n",
       "      <td>Teacher19</td>\n",
       "      <td>4.9</td>\n",
       "    </tr>\n",
       "    <tr>\n",
       "      <th>19</th>\n",
       "      <td>Teacher20</td>\n",
       "      <td>4.1</td>\n",
       "    </tr>\n",
       "  </tbody>\n",
       "</table>\n",
       "</div>"
      ],
      "text/plain": [
       "      teacher  evaluation\n",
       "0    Teacher1         4.7\n",
       "1    Teacher2         3.8\n",
       "2    Teacher3         4.2\n",
       "3    Teacher4         4.9\n",
       "4    Teacher5         3.5\n",
       "5    Teacher6         4.1\n",
       "6    Teacher7         4.6\n",
       "7    Teacher8         3.9\n",
       "8    Teacher9         4.3\n",
       "9   Teacher10         4.0\n",
       "10  Teacher11         4.8\n",
       "11  Teacher12         3.7\n",
       "12  Teacher13         4.5\n",
       "13  Teacher14         4.0\n",
       "14  Teacher15         3.6\n",
       "15  Teacher16         4.4\n",
       "16  Teacher17         4.2\n",
       "17  Teacher18         3.8\n",
       "18  Teacher19         4.9\n",
       "19  Teacher20         4.1"
      ]
     },
     "execution_count": 3,
     "metadata": {},
     "output_type": "execute_result"
    }
   ],
   "source": [
    "# dataset\n",
    "import pandas as pd\n",
    "import numpy as np\n",
    "from scipy import stats\n",
    "\n",
    "# Sample teacher rating dataset (evaluation scores out of 5)\n",
    "data = {\n",
    "    \"teacher\": [f\"Teacher{i}\" for i in range(1, 21)],\n",
    "    \"evaluation\": [4.7, 3.8, 4.2, 4.9, 3.5, 4.1, 4.6, 3.9, 4.3, 4.0,\n",
    "                   4.8, 3.7, 4.5, 4.0, 3.6, 4.4, 4.2, 3.8, 4.9, 4.1]\n",
    "}\n",
    "\n",
    "# Create DataFrame\n",
    "df = pd.DataFrame(data)\n",
    "df\n"
   ]
  },
  {
   "cell_type": "code",
   "execution_count": 4,
   "id": "e3159cd7-c6a2-4d49-a104-027293cdfd0d",
   "metadata": {},
   "outputs": [
    {
     "name": "stdout",
     "output_type": "stream",
     "text": [
      "Probability of evaluation > 4.5: 0.25\n"
     ]
    }
   ],
   "source": [
    "#Q.1\n",
    "# Count teachers with evaluation > 4.5\n",
    "count_gt_4_5 = df[df['evaluation'] > 4.5].shape[0]\n",
    "\n",
    "# Total number of teachers\n",
    "total_count = df.shape[0]\n",
    "\n",
    "# Probability\n",
    "prob_gt_4_5 = count_gt_4_5 / total_count\n",
    "print(f\"Probability of evaluation > 4.5: {prob_gt_4_5:.2f}\")\n"
   ]
  },
  {
   "cell_type": "code",
   "execution_count": 5,
   "id": "716c88e2-fbb6-4782-9898-4f845d6223c8",
   "metadata": {},
   "outputs": [
    {
     "name": "stdout",
     "output_type": "stream",
     "text": [
      "Probability of evaluation between 3.5 and 4.2: 0.45\n"
     ]
    }
   ],
   "source": [
    "#Q.2\n",
    "# Count evaluations between 3.5 and 4.2\n",
    "count_between = df[(df['evaluation'] > 3.5) & (df['evaluation'] < 4.2)].shape[0]\n",
    "\n",
    "# Probability\n",
    "prob_between = count_between / total_count\n",
    "print(f\"Probability of evaluation between 3.5 and 4.2: {prob_between:.2f}\")\n"
   ]
  },
  {
   "cell_type": "markdown",
   "id": "7be5ab8c-a9d0-4c8d-85e2-ac1e2cf53ef8",
   "metadata": {},
   "source": [
    "#Q.3\n",
    "# Step 3: Two-Tailed Test for Normal Distribution (Pro vs Regional Players)\n",
    "\n",
    "Given:\n",
    "\n",
    "Historic pro mean = 12\n",
    "\n",
    "Population std = 5.5\n",
    "\n",
    "Regional sample: n = 36, mean = 10.7\n",
    "Null hypothesis H0: The mean point of the regional player is not different from the historic mean.\n",
    "Alternative hypothesis H1: The mean point of the regional player is different from the historic mean.\n"
   ]
  },
  {
   "cell_type": "code",
   "execution_count": 6,
   "id": "7f6141e5-7308-4d15-88bb-d4d040689c61",
   "metadata": {},
   "outputs": [
    {
     "name": "stdout",
     "output_type": "stream",
     "text": [
      "Z-score: -1.42\n",
      "Two-tailed p-value: 0.156\n",
      "Fail to reject the null hypothesis: No significant difference from historic mean.\n"
     ]
    }
   ],
   "source": [
    "# Given values\n",
    "mu_population = 12\n",
    "sigma_population = 5.5\n",
    "x_bar_sample = 10.7\n",
    "n_sample = 36\n",
    "\n",
    "# Standard error\n",
    "se = sigma_population / np.sqrt(n_sample)\n",
    "\n",
    "# Z-score\n",
    "z_score = (x_bar_sample - mu_population) / se\n",
    "print(f\"Z-score: {z_score:.2f}\")\n",
    "\n",
    "# Two-tailed p-value\n",
    "p_value = 2 * (1 - stats.norm.cdf(abs(z_score)))\n",
    "print(f\"Two-tailed p-value: {p_value:.3f}\")\n",
    "\n",
    "# Decision at 5% significance\n",
    "alpha = 0.05\n",
    "if p_value < alpha:\n",
    "    print(\"Reject the null hypothesis: Regional players' mean is significantly different from historic mean.\")\n",
    "else:\n",
    "    print(\"Fail to reject the null hypothesis: No significant difference from historic mean.\")\n"
   ]
  },
  {
   "cell_type": "code",
   "execution_count": null,
   "id": "06848431-6816-4587-bf01-ff5a92aa0995",
   "metadata": {},
   "outputs": [],
   "source": []
  }
 ],
 "metadata": {
  "kernelspec": {
   "display_name": "Python 3 (ipykernel)",
   "language": "python",
   "name": "python3"
  },
  "language_info": {
   "codemirror_mode": {
    "name": "ipython",
    "version": 3
   },
   "file_extension": ".py",
   "mimetype": "text/x-python",
   "name": "python",
   "nbconvert_exporter": "python",
   "pygments_lexer": "ipython3",
   "version": "3.13.5"
  }
 },
 "nbformat": 4,
 "nbformat_minor": 5
}
