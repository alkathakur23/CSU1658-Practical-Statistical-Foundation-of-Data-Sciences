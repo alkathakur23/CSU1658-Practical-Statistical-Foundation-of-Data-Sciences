{
 "cells": [
  {
   "cell_type": "code",
   "execution_count": null,
   "id": "2ea12abf-3fe0-4f38-9268-a46632dc1b62",
   "metadata": {},
   "outputs": [],
   "source": [
    "# Use the rating data set and answer the following"
   ]
  },
  {
   "cell_type": "markdown",
   "id": "e1bc928e-c8b4-412c-98cd-43065ff9b94a",
   "metadata": {},
   "source": [
    "Q.1-The teachers’ rating dataset is a cross-sectional dataset, not a time series.\n",
    "Explain-Cross-sectional data means data collected at a single point in time for different individuals or entities — in this case, different instructors.\n",
    "\n",
    "Each record (row) in the dataset represents one instructor’s teaching evaluation, along with their characteristics (e.g., beauty score, gender, age, tenure, division, etc.).\n",
    "\n",
    "There’s no time component (like date or year) showing how ratings change over time for the same instructor — so it’s not time series data"
   ]
  },
  {
   "cell_type": "code",
   "execution_count": 7,
   "id": "65cc792d-acb6-42b2-8c5a-2d9b9f765772",
   "metadata": {},
   "outputs": [
    {
     "data": {
      "text/html": [
       "<div>\n",
       "<style scoped>\n",
       "    .dataframe tbody tr th:only-of-type {\n",
       "        vertical-align: middle;\n",
       "    }\n",
       "\n",
       "    .dataframe tbody tr th {\n",
       "        vertical-align: top;\n",
       "    }\n",
       "\n",
       "    .dataframe thead th {\n",
       "        text-align: right;\n",
       "    }\n",
       "</style>\n",
       "<table border=\"1\" class=\"dataframe\">\n",
       "  <thead>\n",
       "    <tr style=\"text-align: right;\">\n",
       "      <th></th>\n",
       "      <th>rownames</th>\n",
       "      <th>minority</th>\n",
       "      <th>age</th>\n",
       "      <th>gender</th>\n",
       "      <th>credits</th>\n",
       "      <th>beauty</th>\n",
       "      <th>eval</th>\n",
       "      <th>division</th>\n",
       "      <th>native</th>\n",
       "      <th>tenure</th>\n",
       "      <th>students</th>\n",
       "      <th>allstudents</th>\n",
       "      <th>prof</th>\n",
       "    </tr>\n",
       "  </thead>\n",
       "  <tbody>\n",
       "    <tr>\n",
       "      <th>0</th>\n",
       "      <td>1</td>\n",
       "      <td>yes</td>\n",
       "      <td>36</td>\n",
       "      <td>female</td>\n",
       "      <td>more</td>\n",
       "      <td>0.289916</td>\n",
       "      <td>4.3</td>\n",
       "      <td>upper</td>\n",
       "      <td>yes</td>\n",
       "      <td>yes</td>\n",
       "      <td>24</td>\n",
       "      <td>43</td>\n",
       "      <td>1</td>\n",
       "    </tr>\n",
       "    <tr>\n",
       "      <th>1</th>\n",
       "      <td>2</td>\n",
       "      <td>no</td>\n",
       "      <td>59</td>\n",
       "      <td>male</td>\n",
       "      <td>more</td>\n",
       "      <td>-0.737732</td>\n",
       "      <td>4.5</td>\n",
       "      <td>upper</td>\n",
       "      <td>yes</td>\n",
       "      <td>yes</td>\n",
       "      <td>17</td>\n",
       "      <td>20</td>\n",
       "      <td>2</td>\n",
       "    </tr>\n",
       "    <tr>\n",
       "      <th>2</th>\n",
       "      <td>3</td>\n",
       "      <td>no</td>\n",
       "      <td>51</td>\n",
       "      <td>male</td>\n",
       "      <td>more</td>\n",
       "      <td>-0.571984</td>\n",
       "      <td>3.7</td>\n",
       "      <td>upper</td>\n",
       "      <td>yes</td>\n",
       "      <td>yes</td>\n",
       "      <td>55</td>\n",
       "      <td>55</td>\n",
       "      <td>3</td>\n",
       "    </tr>\n",
       "    <tr>\n",
       "      <th>3</th>\n",
       "      <td>4</td>\n",
       "      <td>no</td>\n",
       "      <td>40</td>\n",
       "      <td>female</td>\n",
       "      <td>more</td>\n",
       "      <td>-0.677963</td>\n",
       "      <td>4.3</td>\n",
       "      <td>upper</td>\n",
       "      <td>yes</td>\n",
       "      <td>yes</td>\n",
       "      <td>40</td>\n",
       "      <td>46</td>\n",
       "      <td>4</td>\n",
       "    </tr>\n",
       "    <tr>\n",
       "      <th>4</th>\n",
       "      <td>5</td>\n",
       "      <td>no</td>\n",
       "      <td>31</td>\n",
       "      <td>female</td>\n",
       "      <td>more</td>\n",
       "      <td>1.509794</td>\n",
       "      <td>4.4</td>\n",
       "      <td>upper</td>\n",
       "      <td>yes</td>\n",
       "      <td>yes</td>\n",
       "      <td>42</td>\n",
       "      <td>48</td>\n",
       "      <td>5</td>\n",
       "    </tr>\n",
       "  </tbody>\n",
       "</table>\n",
       "</div>"
      ],
      "text/plain": [
       "   rownames minority  age  gender credits    beauty  eval division native  \\\n",
       "0         1      yes   36  female    more  0.289916   4.3    upper    yes   \n",
       "1         2       no   59    male    more -0.737732   4.5    upper    yes   \n",
       "2         3       no   51    male    more -0.571984   3.7    upper    yes   \n",
       "3         4       no   40  female    more -0.677963   4.3    upper    yes   \n",
       "4         5       no   31  female    more  1.509794   4.4    upper    yes   \n",
       "\n",
       "  tenure  students  allstudents  prof  \n",
       "0    yes        24           43     1  \n",
       "1    yes        17           20     2  \n",
       "2    yes        55           55     3  \n",
       "3    yes        40           46     4  \n",
       "4    yes        42           48     5  "
      ]
     },
     "execution_count": 7,
     "metadata": {},
     "output_type": "execute_result"
    }
   ],
   "source": [
    "import pandas as pd\n",
    "import matplotlib.pyplot as plt\n",
    "\n",
    "# Load dataset directly from an online source (contains 463 observations)\n",
    "url = \"https://vincentarelbundock.github.io/Rdatasets/csv/AER/TeachingRatings.csv\"\n",
    "df = pd.read_csv(url)\n",
    "df.head()\n"
   ]
  },
  {
   "cell_type": "code",
   "execution_count": 8,
   "id": "d68d1913-aa5d-4a24-a335-04299e9a8591",
   "metadata": {},
   "outputs": [
    {
     "name": "stdout",
     "output_type": "stream",
     "text": [
      "Mean: 36.62\n",
      "Median: 23.0\n",
      "Minimum: 5\n",
      "Maximum: 380\n"
     ]
    }
   ],
   "source": [
    "#Q.2\n",
    "mean_students = df['students'].mean()\n",
    "median_students = df['students'].median()\n",
    "min_students = df['students'].min()\n",
    "max_students = df['students'].max()\n",
    "\n",
    "print(f\"Mean: {mean_students:.2f}\")\n",
    "print(f\"Median: {median_students}\")\n",
    "print(f\"Minimum: {min_students}\")\n",
    "print(f\"Maximum: {max_students}\")\n"
   ]
  },
  {
   "cell_type": "code",
   "execution_count": 9,
   "id": "2a4da2bc-dd7a-43db-9963-a4b4f0588d45",
   "metadata": {},
   "outputs": [
    {
     "name": "stdout",
     "output_type": "stream",
     "text": [
      "         rownames         age        beauty        eval    students  \\\n",
      "count  463.000000  463.000000  4.630000e+02  463.000000  463.000000   \n",
      "mean   232.000000   48.365011  6.263499e-08    3.998272   36.624190   \n",
      "std    133.800847    9.802742  7.886477e-01    0.554866   45.018481   \n",
      "min      1.000000   29.000000 -1.450494e+00    2.100000    5.000000   \n",
      "25%    116.500000   42.000000 -6.562689e-01    3.600000   15.000000   \n",
      "50%    232.000000   48.000000 -6.801430e-02    4.000000   23.000000   \n",
      "75%    347.500000   57.000000  5.456024e-01    4.400000   40.000000   \n",
      "max    463.000000   73.000000  1.970023e+00    5.000000  380.000000   \n",
      "\n",
      "       allstudents        prof  \n",
      "count   463.000000  463.000000  \n",
      "mean     55.177106   45.434125  \n",
      "std      75.072800   27.508902  \n",
      "min       8.000000    1.000000  \n",
      "25%      19.000000   20.000000  \n",
      "50%      29.000000   44.000000  \n",
      "75%      60.000000   70.500000  \n",
      "max     581.000000   94.000000  \n"
     ]
    }
   ],
   "source": [
    "#Q.3\n",
    "desc_stats = df.describe()\n",
    "print(desc_stats)\n"
   ]
  },
  {
   "cell_type": "code",
   "execution_count": 12,
   "id": "fcc0056d-ad59-4ae8-99f6-37931222b54f",
   "metadata": {},
   "outputs": [
    {
     "data": {
      "image/png": "[encoded data removed]",
      "text/plain": [
       "<Figure size 640x480 with 1 Axes>"
      ]
     },
     "metadata": {},
     "output_type": "display_data"
    }
   ],
   "source": [
    "#Q.4\n",
    "plt.hist(df['beauty'], bins=20, color='skyblue', edgecolor='black')\n",
    "plt.title(\"Distribution of Beauty Scores\")\n",
    "plt.xlabel(\"Beauty Score\")\n",
    "plt.ylabel(\"Frequency\")\n",
    "plt.show()\n"
   ]
  },
  {
   "cell_type": "code",
   "execution_count": 10,
   "id": "6a56ca4a-f859-43e7-ac0d-389375996a6f",
   "metadata": {},
   "outputs": [
    {
     "name": "stdout",
     "output_type": "stream",
     "text": [
      "            mean      std  count\n",
      "gender                          \n",
      "female  0.116109  0.81781    195\n",
      "male   -0.084482  0.75713    268\n"
     ]
    }
   ],
   "source": [
    "#Q.5\n",
    "beauty_gender = df.groupby('gender')['beauty'].agg(['mean', 'std', 'count'])\n",
    "print(beauty_gender)\n"
   ]
  },
  {
   "cell_type": "code",
   "execution_count": 11,
   "id": "1b2ef744-0dc4-47a8-b6c5-f8cf5ffb7b57",
   "metadata": {},
   "outputs": [
    {
     "name": "stdout",
     "output_type": "stream",
     "text": [
      "tenure     no    yes\n",
      "gender              \n",
      "female  25.64  74.36\n",
      "male    19.40  80.60\n"
     ]
    }
   ],
   "source": [
    "#Q.6\n",
    "tenure_table = pd.crosstab(df['gender'], df['tenure'], normalize='index') * 100\n",
    "print(tenure_table.round(2))\n"
   ]
  },
  {
   "cell_type": "code",
   "execution_count": null,
   "id": "610b550d-7cc5-4594-9677-60670fc5dcf4",
   "metadata": {},
   "outputs": [],
   "source": []
  }
 ],
 "metadata": {
  "kernelspec": {
   "display_name": "Python 3 (ipykernel)",
   "language": "python",
   "name": "python3"
  },
  "language_info": {
   "codemirror_mode": {
    "name": "ipython",
    "version": 3
   },
   "file_extension": ".py",
   "mimetype": "text/x-python",
   "name": "python",
   "nbconvert_exporter": "python",
   "pygments_lexer": "ipython3",
   "version": "3.13.5"
  }
 },
 "nbformat": 4,
 "nbformat_minor": 5
}
