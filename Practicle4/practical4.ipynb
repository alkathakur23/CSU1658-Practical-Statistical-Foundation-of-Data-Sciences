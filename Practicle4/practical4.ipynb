{
 "cells": [
  {
   "cell_type": "markdown",
   "id": "cb863a1b-ce26-498a-a907-8ea5ebbdd3bc",
   "metadata": {},
   "source": [
    "## practical -4"
   ]
  },
  {
   "cell_type": "code",
   "execution_count": 7,
   "id": "adb2c520-a3b4-4c51-9782-4830282b53ff",
   "metadata": {},
   "outputs": [],
   "source": [
    "import pandas as pd\n",
    "import numpy as np\n",
    "import matplotlib.pyplot as plt\n"
   ]
  },
  {
   "cell_type": "code",
   "execution_count": 8,
   "id": "e738492e-caa2-470d-86d1-ac07e8fe41e0",
   "metadata": {},
   "outputs": [
    {
     "data": {
      "text/html": [
       "<div>\n",
       "<style scoped>\n",
       "    .dataframe tbody tr th:only-of-type {\n",
       "        vertical-align: middle;\n",
       "    }\n",
       "\n",
       "    .dataframe tbody tr th {\n",
       "        vertical-align: top;\n",
       "    }\n",
       "\n",
       "    .dataframe thead th {\n",
       "        text-align: right;\n",
       "    }\n",
       "</style>\n",
       "<table border=\"1\" class=\"dataframe\">\n",
       "  <thead>\n",
       "    <tr style=\"text-align: right;\">\n",
       "      <th></th>\n",
       "      <th>Teacher</th>\n",
       "      <th>Minority</th>\n",
       "      <th>Tenure</th>\n",
       "      <th>Age</th>\n",
       "      <th>Gender</th>\n",
       "      <th>Evaluation</th>\n",
       "    </tr>\n",
       "  </thead>\n",
       "  <tbody>\n",
       "    <tr>\n",
       "      <th>0</th>\n",
       "      <td>Teacher1</td>\n",
       "      <td>Yes</td>\n",
       "      <td>Yes</td>\n",
       "      <td>45</td>\n",
       "      <td>M</td>\n",
       "      <td>4.2</td>\n",
       "    </tr>\n",
       "    <tr>\n",
       "      <th>1</th>\n",
       "      <td>Teacher2</td>\n",
       "      <td>No</td>\n",
       "      <td>No</td>\n",
       "      <td>38</td>\n",
       "      <td>F</td>\n",
       "      <td>3.8</td>\n",
       "    </tr>\n",
       "    <tr>\n",
       "      <th>2</th>\n",
       "      <td>Teacher3</td>\n",
       "      <td>No</td>\n",
       "      <td>Yes</td>\n",
       "      <td>50</td>\n",
       "      <td>M</td>\n",
       "      <td>4.5</td>\n",
       "    </tr>\n",
       "    <tr>\n",
       "      <th>3</th>\n",
       "      <td>Teacher4</td>\n",
       "      <td>Yes</td>\n",
       "      <td>Yes</td>\n",
       "      <td>42</td>\n",
       "      <td>F</td>\n",
       "      <td>4.7</td>\n",
       "    </tr>\n",
       "    <tr>\n",
       "      <th>4</th>\n",
       "      <td>Teacher5</td>\n",
       "      <td>No</td>\n",
       "      <td>No</td>\n",
       "      <td>35</td>\n",
       "      <td>M</td>\n",
       "      <td>3.9</td>\n",
       "    </tr>\n",
       "    <tr>\n",
       "      <th>5</th>\n",
       "      <td>Teacher6</td>\n",
       "      <td>Yes</td>\n",
       "      <td>No</td>\n",
       "      <td>39</td>\n",
       "      <td>F</td>\n",
       "      <td>4.0</td>\n",
       "    </tr>\n",
       "    <tr>\n",
       "      <th>6</th>\n",
       "      <td>Teacher7</td>\n",
       "      <td>No</td>\n",
       "      <td>Yes</td>\n",
       "      <td>48</td>\n",
       "      <td>M</td>\n",
       "      <td>4.6</td>\n",
       "    </tr>\n",
       "    <tr>\n",
       "      <th>7</th>\n",
       "      <td>Teacher8</td>\n",
       "      <td>Yes</td>\n",
       "      <td>Yes</td>\n",
       "      <td>44</td>\n",
       "      <td>F</td>\n",
       "      <td>4.1</td>\n",
       "    </tr>\n",
       "    <tr>\n",
       "      <th>8</th>\n",
       "      <td>Teacher9</td>\n",
       "      <td>No</td>\n",
       "      <td>No</td>\n",
       "      <td>37</td>\n",
       "      <td>M</td>\n",
       "      <td>3.7</td>\n",
       "    </tr>\n",
       "    <tr>\n",
       "      <th>9</th>\n",
       "      <td>Teacher10</td>\n",
       "      <td>Yes</td>\n",
       "      <td>No</td>\n",
       "      <td>41</td>\n",
       "      <td>F</td>\n",
       "      <td>4.3</td>\n",
       "    </tr>\n",
       "    <tr>\n",
       "      <th>10</th>\n",
       "      <td>Teacher11</td>\n",
       "      <td>No</td>\n",
       "      <td>Yes</td>\n",
       "      <td>49</td>\n",
       "      <td>M</td>\n",
       "      <td>4.8</td>\n",
       "    </tr>\n",
       "    <tr>\n",
       "      <th>11</th>\n",
       "      <td>Teacher12</td>\n",
       "      <td>Yes</td>\n",
       "      <td>Yes</td>\n",
       "      <td>46</td>\n",
       "      <td>F</td>\n",
       "      <td>4.4</td>\n",
       "    </tr>\n",
       "    <tr>\n",
       "      <th>12</th>\n",
       "      <td>Teacher13</td>\n",
       "      <td>No</td>\n",
       "      <td>No</td>\n",
       "      <td>36</td>\n",
       "      <td>M</td>\n",
       "      <td>3.6</td>\n",
       "    </tr>\n",
       "    <tr>\n",
       "      <th>13</th>\n",
       "      <td>Teacher14</td>\n",
       "      <td>Yes</td>\n",
       "      <td>Yes</td>\n",
       "      <td>43</td>\n",
       "      <td>F</td>\n",
       "      <td>4.2</td>\n",
       "    </tr>\n",
       "    <tr>\n",
       "      <th>14</th>\n",
       "      <td>Teacher15</td>\n",
       "      <td>No</td>\n",
       "      <td>No</td>\n",
       "      <td>40</td>\n",
       "      <td>M</td>\n",
       "      <td>3.9</td>\n",
       "    </tr>\n",
       "    <tr>\n",
       "      <th>15</th>\n",
       "      <td>Teacher16</td>\n",
       "      <td>Yes</td>\n",
       "      <td>No</td>\n",
       "      <td>38</td>\n",
       "      <td>F</td>\n",
       "      <td>4.0</td>\n",
       "    </tr>\n",
       "    <tr>\n",
       "      <th>16</th>\n",
       "      <td>Teacher17</td>\n",
       "      <td>No</td>\n",
       "      <td>Yes</td>\n",
       "      <td>47</td>\n",
       "      <td>M</td>\n",
       "      <td>4.5</td>\n",
       "    </tr>\n",
       "    <tr>\n",
       "      <th>17</th>\n",
       "      <td>Teacher18</td>\n",
       "      <td>Yes</td>\n",
       "      <td>No</td>\n",
       "      <td>39</td>\n",
       "      <td>F</td>\n",
       "      <td>4.1</td>\n",
       "    </tr>\n",
       "    <tr>\n",
       "      <th>18</th>\n",
       "      <td>Teacher19</td>\n",
       "      <td>No</td>\n",
       "      <td>Yes</td>\n",
       "      <td>51</td>\n",
       "      <td>M</td>\n",
       "      <td>4.9</td>\n",
       "    </tr>\n",
       "    <tr>\n",
       "      <th>19</th>\n",
       "      <td>Teacher20</td>\n",
       "      <td>Yes</td>\n",
       "      <td>Yes</td>\n",
       "      <td>45</td>\n",
       "      <td>F</td>\n",
       "      <td>4.3</td>\n",
       "    </tr>\n",
       "  </tbody>\n",
       "</table>\n",
       "</div>"
      ],
      "text/plain": [
       "      Teacher Minority Tenure  Age Gender  Evaluation\n",
       "0    Teacher1      Yes    Yes   45      M         4.2\n",
       "1    Teacher2       No     No   38      F         3.8\n",
       "2    Teacher3       No    Yes   50      M         4.5\n",
       "3    Teacher4      Yes    Yes   42      F         4.7\n",
       "4    Teacher5       No     No   35      M         3.9\n",
       "5    Teacher6      Yes     No   39      F         4.0\n",
       "6    Teacher7       No    Yes   48      M         4.6\n",
       "7    Teacher8      Yes    Yes   44      F         4.1\n",
       "8    Teacher9       No     No   37      M         3.7\n",
       "9   Teacher10      Yes     No   41      F         4.3\n",
       "10  Teacher11       No    Yes   49      M         4.8\n",
       "11  Teacher12      Yes    Yes   46      F         4.4\n",
       "12  Teacher13       No     No   36      M         3.6\n",
       "13  Teacher14      Yes    Yes   43      F         4.2\n",
       "14  Teacher15       No     No   40      M         3.9\n",
       "15  Teacher16      Yes     No   38      F         4.0\n",
       "16  Teacher17       No    Yes   47      M         4.5\n",
       "17  Teacher18      Yes     No   39      F         4.1\n",
       "18  Teacher19       No    Yes   51      M         4.9\n",
       "19  Teacher20      Yes    Yes   45      F         4.3"
      ]
     },
     "execution_count": 8,
     "metadata": {},
     "output_type": "execute_result"
    }
   ],
   "source": [
    "# Sample dataset\n",
    "data = {\n",
    "    \"Teacher\": [f\"Teacher{i}\" for i in range(1, 21)],\n",
    "    \"Minority\": [\"Yes\", \"No\", \"No\", \"Yes\", \"No\", \"Yes\", \"No\", \"Yes\", \"No\", \"Yes\",\n",
    "                 \"No\", \"Yes\", \"No\", \"Yes\", \"No\", \"Yes\", \"No\", \"Yes\", \"No\", \"Yes\"],\n",
    "    \"Tenure\": [\"Yes\", \"No\", \"Yes\", \"Yes\", \"No\", \"No\", \"Yes\", \"Yes\", \"No\", \"No\",\n",
    "               \"Yes\", \"Yes\", \"No\", \"Yes\", \"No\", \"No\", \"Yes\", \"No\", \"Yes\", \"Yes\"],\n",
    "    \"Age\": [45, 38, 50, 42, 35, 39, 48, 44, 37, 41, 49, 46, 36, 43, 40, 38, 47, 39, 51, 45],\n",
    "    \"Gender\": [\"M\",\"F\",\"M\",\"F\",\"M\",\"F\",\"M\",\"F\",\"M\",\"F\",\"M\",\"F\",\"M\",\"F\",\"M\",\"F\",\"M\",\"F\",\"M\",\"F\"],\n",
    "    \"Evaluation\": [4.2, 3.8, 4.5, 4.7, 3.9, 4.0, 4.6, 4.1, 3.7, 4.3, 4.8, 4.4, 3.6, 4.2, 3.9, 4.0, 4.5, 4.1, 4.9, 4.3]\n",
    "}\n",
    "\n",
    "df = pd.DataFrame(data)\n",
    "df\n"
   ]
  },
  {
   "cell_type": "code",
   "execution_count": null,
   "id": "c797feca-dcd3-4b28-bc0a-9db44bee0954",
   "metadata": {},
   "outputs": [
    {
     "name": "stdout",
     "output_type": "stream",
     "text": [
      "Percentage of minorities who are tenured: 60.00%\n"
     ]
    }
   ],
   "source": [
    "Q.1\n",
    "# Filter minority professors\n",
    "minority_professors = df[df['Minority'] == \"Yes\"]\n",
    "\n",
    "# Count minority professors with tenure\n",
    "tenured_minority = minority_professors[minority_professors['Tenure'] == \"Yes\"].shape[0]\n",
    "\n",
    "# Total minority professors\n",
    "total_minority = minority_professors.shape[0]\n",
    "\n",
    "# Percentage\n",
    "percent_tenured_minority = (tenured_minority / total_minority) * 100\n",
    "print(f\"Percentage of minorities who are tenured: {percent_tenured_minority:.2f}%\")\n"
   ]
  },
  {
   "cell_type": "code",
   "execution_count": 10,
   "id": "16fbacd1-70e3-49ca-b252-a54747d14a18",
   "metadata": {},
   "outputs": [
    {
     "name": "stdout",
     "output_type": "stream",
     "text": [
      "Mean and standard deviation of Age by Tenure:\n",
      "             mean       std\n",
      "Tenure                     \n",
      "No      38.111111  1.900292\n",
      "Yes     46.363636  2.907670\n"
     ]
    }
   ],
   "source": [
    "#Q.2\n",
    "# Mean and standard deviation for tenured and untenured\n",
    "age_stats = df.groupby('Tenure')['Age'].agg(['mean','std'])\n",
    "print(\"Mean and standard deviation of Age by Tenure:\")\n",
    "print(age_stats)\n"
   ]
  },
  {
   "cell_type": "code",
   "execution_count": 11,
   "id": "9117e6f7-cb50-4efd-b2ed-65e8dbc231ae",
   "metadata": {},
   "outputs": [
    {
     "data": {
      "image/png": "[encoded data removed]",
      "text/plain": [
       "<Figure size 640x480 with 1 Axes>"
      ]
     },
     "metadata": {},
     "output_type": "display_data"
    }
   ],
   "source": [
    "#Q.3\n",
    "# Histogram\n",
    "plt.hist(df['Age'], bins=6, color='skyblue', edgecolor='black')\n",
    "plt.title(\"Age Distribution of Professors\")\n",
    "plt.xlabel(\"Age\")\n",
    "plt.ylabel(\"Frequency\")\n",
    "plt.show()\n"
   ]
  },
  {
   "cell_type": "code",
   "execution_count": 12,
   "id": "c6a1103a-74a9-4bcc-8a75-4fd8ed9a1046",
   "metadata": {},
   "outputs": [
    {
     "data": {
      "image/png": "[encoded data removed]",
      "text/plain": [
       "<Figure size 640x480 with 1 Axes>"
      ]
     },
     "metadata": {},
     "output_type": "display_data"
    },
    {
     "data": {
      "image/png": "[encoded data removed]",
      "text/plain": [
       "<Figure size 640x480 with 1 Axes>"
      ]
     },
     "metadata": {},
     "output_type": "display_data"
    }
   ],
   "source": [
    "#Q.4\n",
    "# Count by gender\n",
    "gender_counts = df['Gender'].value_counts()\n",
    "\n",
    "# Vertical bar plot\n",
    "plt.bar(gender_counts.index, gender_counts.values, color=['lightblue','pink'])\n",
    "plt.title(\"Gender Distribution of Professors (Vertical Bar)\")\n",
    "plt.show()\n",
    "\n",
    "# Horizontal bar plot\n",
    "plt.barh(gender_counts.index, gender_counts.values, color=['lightblue','pink'])\n",
    "plt.title(\"Gender Distribution of Professors (Horizontal Bar)\")\n",
    "plt.show()\n"
   ]
  },
  {
   "cell_type": "code",
   "execution_count": 13,
   "id": "c9485c80-d5c4-49eb-bce7-8abafb3e4833",
   "metadata": {},
   "outputs": [
    {
     "name": "stdout",
     "output_type": "stream",
     "text": [
      "Median evaluation score for tenured professors: 4.5\n"
     ]
    }
   ],
   "source": [
    "#Q.5\n",
    "# Median evaluation for tenured\n",
    "median_eval_tenured = df[df['Tenure'] == \"Yes\"]['Evaluation'].median()\n",
    "print(f\"Median evaluation score for tenured professors: {median_eval_tenured}\")\n"
   ]
  },
  {
   "cell_type": "code",
   "execution_count": null,
   "id": "5e65252d-1b25-461d-ac68-3b7c144e4c36",
   "metadata": {},
   "outputs": [],
   "source": []
  }
 ],
 "metadata": {
  "kernelspec": {
   "display_name": "Python 3 (ipykernel)",
   "language": "python",
   "name": "python3"
  },
  "language_info": {
   "codemirror_mode": {
    "name": "ipython",
    "version": 3
   },
   "file_extension": ".py",
   "mimetype": "text/x-python",
   "name": "python",
   "nbconvert_exporter": "python",
   "pygments_lexer": "ipython3",
   "version": "3.13.5"
  }
 },
 "nbformat": 4,
 "nbformat_minor": 5
}
