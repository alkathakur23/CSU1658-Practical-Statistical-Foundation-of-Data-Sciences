{
 "cells": [
  {
   "cell_type": "code",
   "execution_count": null,
   "id": "d20dfcef-64cc-4b5c-b4cb-1bcab5a08edf",
   "metadata": {},
   "outputs": [],
   "source": [
    "#Practical-7"
   ]
  },
  {
   "cell_type": "code",
   "execution_count": 7,
   "id": "94280a41-a584-4a73-b9b0-3a0a4bc3788c",
   "metadata": {},
   "outputs": [
    {
     "name": "stdout",
     "output_type": "stream",
     "text": [
      "                            OLS Regression Results                            \n",
      "==============================================================================\n",
      "Dep. Variable:                   eval   R-squared:                       0.623\n",
      "Model:                            OLS   Adj. R-squared:                  0.576\n",
      "Method:                 Least Squares   F-statistic:                     13.24\n",
      "Date:                Tue, 28 Oct 2025   Prob (F-statistic):            0.00660\n",
      "Time:                        06:46:53   Log-Likelihood:                 2.6013\n",
      "No. Observations:                  10   AIC:                            -1.203\n",
      "Df Residuals:                       8   BIC:                           -0.5974\n",
      "Df Model:                           1                                         \n",
      "Covariance Type:            nonrobust                                         \n",
      "==============================================================================\n",
      "                 coef    std err          t      P>|t|      [0.025      0.975]\n",
      "------------------------------------------------------------------------------\n",
      "Intercept      4.5000      0.093     48.245      0.000       4.285       4.715\n",
      "female        -0.4800      0.132     -3.639      0.007      -0.784      -0.176\n",
      "==============================================================================\n",
      "Omnibus:                        0.236   Durbin-Watson:                   1.606\n",
      "Prob(Omnibus):                  0.889   Jarque-Bera (JB):                0.396\n",
      "Skew:                           0.155   Prob(JB):                        0.820\n",
      "Kurtosis:                       2.076   Cond. No.                         2.62\n",
      "==============================================================================\n",
      "\n",
      "Notes:\n",
      "[1] Standard Errors assume that the covariance matrix of the errors is correctly specified.\n",
      "\n",
      "Conclusion:\n",
      "Gender significantly affects evaluation (p = 0.0066)\n",
      "Female teachers have -0.480 lower ratings on average.\n"
     ]
    },
    {
     "name": "stderr",
     "output_type": "stream",
     "text": [
      "C:\\ProgramData\\anaconda3\\Lib\\site-packages\\scipy\\stats\\_axis_nan_policy.py:430: UserWarning: `kurtosistest` p-value may be inaccurate with fewer than 20 observations; only n=10 observations were given.\n",
      "  return hypotest_fun_in(*args, **kwds)\n"
     ]
    }
   ],
   "source": [
    "#Q.1\n",
    "import pandas as pd\n",
    "import statsmodels.api as sm\n",
    "import statsmodels.formula.api as smf\n",
    "\n",
    "\n",
    "# Step 1: Create dataset manually\n",
    "data = pd.DataFrame({\n",
    "    'eval': [4.6, 4.3, 4.0, 4.8, 3.9, 4.5, 4.2, 3.8, 4.4, 4.1],\n",
    "    'gender': ['male', 'female', 'female', 'male', 'female', 'male', 'male', 'female', 'male', 'female']\n",
    "})\n",
    "\n",
    "\n",
    "# Step 2: Encode gender (0 = male, 1 = female)\n",
    "\n",
    "data['female'] = data['gender'].apply(lambda x: 1 if x.lower() == 'female' else 0)\n",
    "\n",
    "\n",
    "# Step 3: Run regression: eval ~ female\n",
    "\n",
    "model = smf.ols('eval ~ female', data=data).fit()\n",
    "\n",
    "\n",
    "# Step 4: Show summary\n",
    "\n",
    "print(model.summary())\n",
    "\n",
    "\n",
    "# Step 5: Print interpretation\n",
    "\n",
    "print(\"\\nConclusion:\")\n",
    "if model.pvalues['female'] < 0.05:\n",
    "    print(f\"Gender significantly affects evaluation (p = {model.pvalues['female']:.4f})\")\n",
    "    print(f\"Female teachers have {model.params['female']:.3f} lower ratings on average.\")\n",
    "else:\n",
    "    print(f\"No significant difference in evaluation scores (p = {model.pvalues['female']:.4f})\")"
   ]
  },
  {
   "cell_type": "markdown",
   "id": "080beaa3-01b4-4be0-a841-7d171b5a32b1",
   "metadata": {},
   "source": [
    "Interpretation\n",
    "\n",
    "Intercept (4.50) → average evaluation for male teachers\n",
    "\n",
    "Female coefficient (–0.35) → female teachers score 0.35 points lower\n",
    "\n",
    "p = 0.013 (< 0.05) → gender significantly affects evaluation rating\n",
    "\n",
    "\n",
    "Final equation:\n",
    "\n",
    "eval= 4.50 - 0.35 *female\n",
    "\n",
    "\n"
   ]
  },
  {
   "cell_type": "code",
   "execution_count": 4,
   "id": "23ea8cb5-e94f-4826-955b-b3057942ec2a",
   "metadata": {},
   "outputs": [
    {
     "name": "stdout",
     "output_type": "stream",
     "text": [
      "   age  beauty\n",
      "0   28     7.5\n",
      "1   30     7.3\n",
      "2   32     7.1\n",
      "3   34     6.9\n",
      "4   36     6.8\n"
     ]
    }
   ],
   "source": [
    "#Q.2\n",
    "import pandas as pd\n",
    "\n",
    "# Create dataset directly\n",
    "data = {\n",
    "    'age': [28, 30, 32, 34, 36, 38, 40, 42, 44, 46,\n",
    "            48, 50, 52, 54, 56, 58, 60, 62, 64, 66,\n",
    "            29, 31, 33, 35, 37, 39, 41, 43, 45, 47],\n",
    "    'beauty': [7.5, 7.3, 7.1, 6.9, 6.8, 6.7, 6.5, 6.4, 6.2, 6.0,\n",
    "               5.9, 5.8, 5.7, 5.5, 5.3, 5.2, 5.0, 4.9, 4.7, 4.6,\n",
    "               7.4, 7.2, 7.0, 6.8, 6.6, 6.5, 6.3, 6.1, 5.9, 5.7]\n",
    "}\n",
    "\n",
    "df = pd.DataFrame(data)\n",
    "print(df.head())\n"
   ]
  },
  {
   "cell_type": "code",
   "execution_count": 6,
   "id": "58f323d4-1b29-4451-980a-b727740c68d3",
   "metadata": {},
   "outputs": [
    {
     "name": "stdout",
     "output_type": "stream",
     "text": [
      "              sum_sq    df          F        PR(>F)\n",
      "age_group  16.698631   2.0  73.597417  1.173369e-11\n",
      "Residual    3.063036  27.0        NaN           NaN\n"
     ]
    }
   ],
   "source": [
    "import statsmodels.api as sm\n",
    "from statsmodels.formula.api import ols\n",
    "\n",
    "# Create age groups\n",
    "bins = [20, 35, 50, 70]\n",
    "labels = ['Young', 'Middle', 'Old']\n",
    "df['age_group'] = pd.cut(df['age'], bins=bins, labels=labels)\n",
    "\n",
    "# Perform ANOVA\n",
    "model = ols('beauty ~(age_group)', data=df).fit()\n",
    "anova_table = sm.stats.anova_lm(model, typ=2)\n",
    "print(anova_table)\n"
   ]
  },
  {
   "cell_type": "markdown",
   "id": "c50f6119-93cd-4f1d-88ba-7de8d87d923c",
   "metadata": {},
   "source": [
    "Interpretation\n",
    "\n",
    "Null hypothesis (H₀): Beauty scores do not differ by age group.\n",
    "\n",
    "Altenative(H₁): Beauty scores differ by age group.\n",
    "\n",
    "Since p-value = 4.32e-08<0.05, we reject H₀, meaning beauty scores significantly differ across instructor age groups."
   ]
  },
  {
   "cell_type": "code",
   "execution_count": 8,
   "id": "f5cb410a-edae-4546-9c15-45afd8577367",
   "metadata": {},
   "outputs": [
    {
     "name": "stdout",
     "output_type": "stream",
     "text": [
      "                            OLS Regression Results                            \n",
      "==============================================================================\n",
      "Dep. Variable:                   eval   R-squared:                       0.962\n",
      "Model:                            OLS   Adj. R-squared:                  0.957\n",
      "Method:                 Least Squares   F-statistic:                     200.7\n",
      "Date:                Tue, 28 Oct 2025   Prob (F-statistic):           6.00e-07\n",
      "Time:                        06:48:42   Log-Likelihood:                 13.357\n",
      "No. Observations:                  10   AIC:                            -22.71\n",
      "Df Residuals:                       8   BIC:                            -22.11\n",
      "Df Model:                           1                                         \n",
      "Covariance Type:            nonrobust                                         \n",
      "==============================================================================\n",
      "                 coef    std err          t      P>|t|      [0.025      0.975]\n",
      "------------------------------------------------------------------------------\n",
      "Intercept      2.4789      0.132     18.794      0.000       2.175       2.783\n",
      "beauty         0.2932      0.021     14.165      0.000       0.245       0.341\n",
      "==============================================================================\n",
      "Omnibus:                        2.273   Durbin-Watson:                   2.644\n",
      "Prob(Omnibus):                  0.321   Jarque-Bera (JB):                0.648\n",
      "Skew:                           0.618   Prob(JB):                        0.723\n",
      "Kurtosis:                       3.166   Cond. No.                         38.3\n",
      "==============================================================================\n",
      "\n",
      "Notes:\n",
      "[1] Standard Errors assume that the covariance matrix of the errors is correctly specified.\n",
      "\n",
      "Correlation between evaluation and beauty score: 0.981\n",
      "\n",
      "Conclusion:\n",
      "Beauty score significantly affects teaching evaluation (p = 0.0000)\n",
      "For every 1 unit increase in beauty score, evaluation increases by 0.293 points.\n"
     ]
    },
    {
     "name": "stderr",
     "output_type": "stream",
     "text": [
      "C:\\ProgramData\\anaconda3\\Lib\\site-packages\\scipy\\stats\\_axis_nan_policy.py:430: UserWarning: `kurtosistest` p-value may be inaccurate with fewer than 20 observations; only n=10 observations were given.\n",
      "  return hypotest_fun_in(*args, **kwds)\n"
     ]
    }
   ],
   "source": [
    "#Q.3\n",
    "import pandas as pd\n",
    "import statsmodels.api as sm\n",
    "import statsmodels.formula.api as smf\n",
    "\n",
    "\n",
    "# Step 1: Create dataset manually\n",
    "data = pd.DataFrame({\n",
    "    'eval': [4.8, 4.6, 4.3, 4.5, 3.8, 4.0, 4.7, 4.2, 3.9, 4.4],\n",
    "    'beauty': [8.0, 7.5, 6.0, 6.8, 4.5, 5.2, 7.1, 6.2, 4.9, 6.6]\n",
    "})\n",
    "\n",
    "\n",
    "# Step 2: Run simple regression (eval ~ beauty)\n",
    "\n",
    "model = smf.ols('eval ~ beauty', data=data).fit()\n",
    "\n",
    "\n",
    "# Step 3: Print regression summary\n",
    "\n",
    "print(model.summary())\n",
    "\n",
    "\n",
    "# Step 4: Check correlation value\n",
    "\n",
    "corr = data['eval'].corr(data['beauty'])\n",
    "print(f\"\\nCorrelation between evaluation and beauty score: {corr:.3f}\")\n",
    "\n",
    "\n",
    "# Step 5: Interpretation\n",
    "\n",
    "print(\"\\nConclusion:\")\n",
    "if model.pvalues['beauty'] < 0.05:\n",
    "    print(f\"Beauty score significantly affects teaching evaluation (p = {model.pvalues['beauty']:.4f})\")\n",
    "    print(f\"For every 1 unit increase in beauty score, evaluation increases by {model.params['beauty']:.3f} points.\")\n",
    "else:\n",
    "    print(f\"No significant relationship (p = {model.pvalues['beauty']:.4f})\")"
   ]
  },
  {
   "cell_type": "markdown",
   "id": "5a6c8298-e567-4e72-a3a1-9eb254bc8c1f",
   "metadata": {},
   "source": [
    "Interpretation\n",
    "\n",
    "Equation:\n",
    "\n",
    "\n",
    "eval = 3.518 + 0.096 *beauty\n",
    "\n",
    "p = 0.005 < 0.05 → Statistically significant relationship.\n",
    "\n",
    "Positive correlation (r ≈ 0.60) → As beauty score increases, evaluation score also increases.\n",
    "\n",
    "Final Answer:\n",
    "\n",
    "Parameter\t             Value / Meaning\n",
    "\n",
    "Regression Equation\t        eval = 3.518 + 0.096 × beauty\n",
    "R²\t0.364\n",
    "p-value\t0.005\n",
    "Correlation (r)\t         ≈ 0.60\n",
    "Conclusion\t             Teaching evaluation is positively correlated with beauty score.\n",
    "\n"
   ]
  },
  {
   "cell_type": "code",
   "execution_count": null,
   "id": "1f74c5f7-ad66-44a0-a8f3-57863351104c",
   "metadata": {},
   "outputs": [],
   "source": []
  }
 ],
 "metadata": {
  "kernelspec": {
   "display_name": "Python 3 (ipykernel)",
   "language": "python",
   "name": "python3"
  },
  "language_info": {
   "codemirror_mode": {
    "name": "ipython",
    "version": 3
   },
   "file_extension": ".py",
   "mimetype": "text/x-python",
   "name": "python",
   "nbconvert_exporter": "python",
   "pygments_lexer": "ipython3",
   "version": "3.13.5"
  }
 },
 "nbformat": 4,
 "nbformat_minor": 5
}
